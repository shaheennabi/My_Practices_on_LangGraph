{
 "cells": [
  {
   "cell_type": "code",
   "execution_count": null,
   "id": "7592db11",
   "metadata": {},
   "outputs": [],
   "source": [
    "## importhing necessary libraries here \n",
    "\n",
    "from langgraph.graph import StateGraph, START, END\n",
    "from langchain_openai import  ChatOpenAI\n",
    "from typing import TypedDict \n",
    "from dotenv import load_dotenv\n",
    "import os"
   ]
  },
  {
   "cell_type": "code",
   "execution_count": 21,
   "id": "44d2a13a",
   "metadata": {},
   "outputs": [
    {
     "data": {
      "text/plain": [
       "True"
      ]
     },
     "execution_count": 21,
     "metadata": {},
     "output_type": "execute_result"
    }
   ],
   "source": [
    "load_dotenv()"
   ]
  },
  {
   "cell_type": "code",
   "execution_count": 26,
   "id": "cc564345",
   "metadata": {},
   "outputs": [],
   "source": [
    "model = ChatOpenAI(model=\"gpt-3.5-turbo\")\n",
    "\n"
   ]
  },
  {
   "cell_type": "code",
   "execution_count": 4,
   "id": "c83d444d",
   "metadata": {},
   "outputs": [],
   "source": [
    "## creating a state\n",
    "\n",
    "class LLMState(TypedDict):\n",
    "\n",
    "\n",
    "    question: str\n",
    "    answer: str"
   ]
  },
  {
   "cell_type": "code",
   "execution_count": 27,
   "id": "3b7fd9f8",
   "metadata": {},
   "outputs": [],
   "source": [
    "def llm_qa(state:LLMState) -> LLMState:\n",
    "\n",
    "    ## extracting the question from state\n",
    "    question = state['question']\n",
    "\n",
    "    ## form a prompt\n",
    "    prompt = f\"Answer the following question {question}\"\n",
    "\n",
    "    ## asking the question to llm\n",
    "    answer = model.invoke(prompt).content\n",
    "\n",
    "    ## updating the answer in the state\n",
    "    state['answer'] = answer\n",
    "\n",
    "    return state"
   ]
  },
  {
   "cell_type": "code",
   "execution_count": 37,
   "id": "d2c2b7f2",
   "metadata": {},
   "outputs": [],
   "source": [
    "## creating a graph\n",
    "\n",
    "graph = StateGraph(LLMState)\n",
    "\n",
    "## adding nodes to the graph\n",
    "graph.add_node('llm_qa', llm_qa)\n",
    "\n",
    "\n",
    "## adding the edges\n",
    "graph.add_edge(START, \"llm_qa\")\n",
    "graph.add_edge(\"llm_qa\", END)\n",
    "\n",
    "\n",
    "\n",
    "## compiling the graph \n",
    "workflow = graph.compile()"
   ]
  },
  {
   "cell_type": "code",
   "execution_count": 42,
   "id": "dda6d6f7",
   "metadata": {},
   "outputs": [],
   "source": [
    "## executing the graph \n",
    "\n",
    "initial_state = {'question': 'Who is Critiano Ronaldo in 5 words?'}\n",
    "\n",
    "final_state = workflow.invoke(initial_state)\n",
    "\n"
   ]
  },
  {
   "cell_type": "code",
   "execution_count": 43,
   "id": "37041bc3",
   "metadata": {},
   "outputs": [
    {
     "name": "stdout",
     "output_type": "stream",
     "text": [
      "Soccer player, skilled, prolific goal-scorer.\n"
     ]
    }
   ],
   "source": [
    "print(final_state['answer'])"
   ]
  },
  {
   "cell_type": "code",
   "execution_count": null,
   "id": "f79f2202",
   "metadata": {},
   "outputs": [],
   "source": []
  }
 ],
 "metadata": {
  "kernelspec": {
   "display_name": "myenv1",
   "language": "python",
   "name": "python3"
  },
  "language_info": {
   "codemirror_mode": {
    "name": "ipython",
    "version": 3
   },
   "file_extension": ".py",
   "mimetype": "text/x-python",
   "name": "python",
   "nbconvert_exporter": "python",
   "pygments_lexer": "ipython3",
   "version": "3.12.7"
  }
 },
 "nbformat": 4,
 "nbformat_minor": 5
}
