{
 "cells": [
  {
   "cell_type": "code",
   "execution_count": 14,
   "id": "8afb568f",
   "metadata": {},
   "outputs": [],
   "source": [
    "## importing some necessary things\n",
    "\n",
    "from langgraph.graph import StateGraph, START, END\n",
    "from langchain_openai import ChatOpenAI\n",
    "from typing  import TypedDict\n",
    "from dotenv import load_dotenv\n",
    "import os"
   ]
  },
  {
   "cell_type": "code",
   "execution_count": 24,
   "id": "c72621b6",
   "metadata": {},
   "outputs": [],
   "source": [
    "## defining the model here ....\n",
    "\n",
    "load_dotenv()\n",
    "\n",
    "model = ChatOpenAI()"
   ]
  },
  {
   "cell_type": "code",
   "execution_count": 6,
   "id": "79eed1b2",
   "metadata": {},
   "outputs": [],
   "source": [
    "## defining the state\n",
    "\n",
    "class BlogState(TypedDict):\n",
    "\n",
    "    title: str\n",
    "    outline: str\n",
    "    content: str\n",
    "    \n"
   ]
  },
  {
   "cell_type": "code",
   "execution_count": null,
   "id": "aad81522",
   "metadata": {},
   "outputs": [],
   "source": [
    "## function create_outline logic... \n",
    "\n",
    "def create_outline(state: BlogState) -> BlogState:\n",
    "\n",
    "    ## fetching the title\n",
    "    title = state['title']\n",
    "\n",
    "    ## calling the llm\n",
    "    prompt = f\"Generate an small outline for a full blog post titled {title}\"\n",
    "    outline = model.invoke(prompt).content\n",
    "    \n",
    "    ## update the state here\n",
    "    state['outline'] = outline\n",
    "\n",
    "    return state"
   ]
  },
  {
   "cell_type": "code",
   "execution_count": null,
   "id": "139f6f37",
   "metadata": {},
   "outputs": [],
   "source": [
    "## function create_blog logic...\n",
    "\n",
    "def create_blog(state: BlogState) -> BlogState:\n",
    "\n",
    "    title = state['title']\n",
    "    outline = state['outline']\n",
    "\n",
    "    prompt = f\"Generate a blog post based on the outline {outline} for the title {title} in 15 words\"\n",
    "    content = model.invoke(prompt).content\n",
    "\n",
    "    state['content'] = content\n",
    "\n",
    "    return state"
   ]
  },
  {
   "cell_type": "code",
   "execution_count": 21,
   "id": "8aba0d28",
   "metadata": {},
   "outputs": [],
   "source": [
    "## creating the graph\n",
    "\n",
    "graph = StateGraph(BlogState)\n",
    "\n",
    "## adding the nodes here \n",
    "graph.add_node(\"create_outline\", create_outline) \n",
    "graph.add_node(\"create_blog\", create_blog)\n",
    "\n",
    "## adding the edges here\n",
    "graph.add_edge(START, \"create_outline\")\n",
    "graph.add_edge(\"create_outline\", \"create_blog\")\n",
    "graph.add_edge(\"create_blog\", END)\n",
    "\n",
    "### compiling the graph \n",
    "workflow = graph.compile()"
   ]
  },
  {
   "cell_type": "code",
   "execution_count": 22,
   "id": "719df4da",
   "metadata": {},
   "outputs": [
    {
     "name": "stdout",
     "output_type": "stream",
     "text": [
      "Forests are essential for the health of our planet. They provide numerous benefits to both the environment and society. Green forests play a crucial role in carbon sequestration, biodiversity preservation, and climate regulation. They also offer recreational opportunities, mental health benefits, and economic advantages for local communities.\n",
      "\n",
      "However, green forests are under threat from deforestation and climate change. Deforestation, driven by activities such as logging, agriculture, and urbanization, is a major contributor to the destruction of forests. Climate change exacerbates this threat by causing increased wildfires, decreased biodiversity, and genetic erosion.\n",
      "\n",
      "To protect green forests, it is important to implement sustainable forest management practices, reforestation and afforestation efforts, and advocate for policy changes. Individual actions, such as supporting conservation efforts and reducing consumption of products that contribute to deforestation, can also make a significant impact.\n",
      "\n",
      "In conclusion, green forests are invaluable and must be protected for the well-being of our planet and future generations. It is crucial for all of us to take action to preserve and sustain these vital ecosystems. Let's work together to ensure the health and longevity of our green forests.\n"
     ]
    }
   ],
   "source": [
    "initial_state = {'title': 'Green Forests'}\n",
    "final_state = workflow.invoke(initial_state)\n",
    "\n",
    "print(final_state['content'])"
   ]
  },
  {
   "cell_type": "code",
   "execution_count": 23,
   "id": "ab933cdd",
   "metadata": {},
   "outputs": [
    {
     "name": "stdout",
     "output_type": "stream",
     "text": [
      "I. Introduction\n",
      "   A. Brief explanation of the importance of forests\n",
      "   B. Transition to discussing the benefits of green forests\n",
      "\n",
      "II. Benefits of Green Forests\n",
      "    A. Environmental benefits\n",
      "        1. Carbon sequestration\n",
      "        2. Biodiversity preservation\n",
      "        3. Climate regulation\n",
      "\n",
      "    B. Social benefits\n",
      "        1. Recreational opportunities\n",
      "        2. Mental health benefits\n",
      "        3. Economic benefits for local communities\n",
      "\n",
      "III. Threats to Green Forests\n",
      "    A. Deforestation\n",
      "        1. Logging\n",
      "        2. Agriculture\n",
      "        3. Urbanization\n",
      "\n",
      "    B. Climate change\n",
      "        1. Increased wildfires\n",
      "        2. Decreased biodiversity\n",
      "        3. Genetic erosion\n",
      "\n",
      "IV. Solutions to Protect Green Forests\n",
      "    A. Sustainable forest management\n",
      "    B. Reforestation and afforestation efforts\n",
      "    C. Policy changes and advocacy\n",
      "\n",
      "V. Conclusion\n",
      "    A. Recap of the importance of green forests\n",
      "    B. Call to action for individuals to help protect and preserve forests\n"
     ]
    }
   ],
   "source": [
    "print(final_state['outline'])"
   ]
  },
  {
   "cell_type": "code",
   "execution_count": null,
   "id": "e049d3a2",
   "metadata": {},
   "outputs": [],
   "source": []
  }
 ],
 "metadata": {
  "kernelspec": {
   "display_name": "myenv1",
   "language": "python",
   "name": "python3"
  },
  "language_info": {
   "codemirror_mode": {
    "name": "ipython",
    "version": 3
   },
   "file_extension": ".py",
   "mimetype": "text/x-python",
   "name": "python",
   "nbconvert_exporter": "python",
   "pygments_lexer": "ipython3",
   "version": "3.12.7"
  }
 },
 "nbformat": 4,
 "nbformat_minor": 5
}
