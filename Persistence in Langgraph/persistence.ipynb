{
 "cells": [
  {
   "cell_type": "markdown",
   "id": "2e8d04b7",
   "metadata": {},
   "source": [
    "### Persistence, Time Travel etc"
   ]
  },
  {
   "cell_type": "code",
   "execution_count": 45,
   "id": "17cd813b",
   "metadata": {},
   "outputs": [],
   "source": [
    "from langgraph.graph import StateGraph, START, END\n",
    "from typing import TypedDict\n",
    "from langchain_openai import ChatOpenAI\n",
    "from dotenv import load_dotenv\n",
    "from langgraph.checkpoint.memory import InMemorySaver"
   ]
  },
  {
   "cell_type": "code",
   "execution_count": null,
   "id": "efa3b7f1",
   "metadata": {},
   "outputs": [],
   "source": [
    "load_dotenv()\n",
    "api_key = \"\"\n",
    "llm = ChatOpenAI(api_key=api_key)"
   ]
  },
  {
   "cell_type": "code",
   "execution_count": 47,
   "id": "a9c3ee23",
   "metadata": {},
   "outputs": [],
   "source": [
    "##  State\n",
    "class JokeState(TypedDict):\n",
    "\n",
    "    topic: str\n",
    "    joke: str\n",
    "    explanation: str"
   ]
  },
  {
   "cell_type": "code",
   "execution_count": 48,
   "id": "72d6e846",
   "metadata": {},
   "outputs": [],
   "source": [
    "## generate_joke function\n",
    "def generate_joke(state: JokeState):\n",
    "\n",
    "    prompt = f\"generate a joke on the topic {state['topic']}\"\n",
    "    response = llm.invoke(prompt).content\n",
    "\n",
    "    return {'joke':  response}"
   ]
  },
  {
   "cell_type": "code",
   "execution_count": 49,
   "id": "9b7a2c88",
   "metadata": {},
   "outputs": [],
   "source": [
    "## generate_explanation function\n",
    "def generate_explanation(state: JokeState):\n",
    "\n",
    "    prompt = f\"write an explanation for the joke - {state['joke']}\"\n",
    "    response = llm.invoke(prompt).content\n",
    "\n",
    "    return {'explanation': response}"
   ]
  },
  {
   "cell_type": "code",
   "execution_count": 50,
   "id": "8164cb10",
   "metadata": {},
   "outputs": [],
   "source": [
    "## graph building\n",
    "graph = StateGraph(JokeState)\n",
    "\n",
    "## adding nodes\n",
    "graph.add_node('generate_joke',  generate_joke)\n",
    "graph.add_node('generate_explanation', generate_explanation)\n",
    "\n",
    "\n",
    "## adding edges \n",
    "graph.add_edge(START, 'generate_joke')\n",
    "graph.add_edge('generate_joke', 'generate_explanation')\n",
    "graph.add_edge('generate_explanation', END)\n",
    "\n",
    "checkpointer = InMemorySaver()\n",
    "\n",
    "workflow = graph.compile(checkpointer=checkpointer)"
   ]
  },
  {
   "cell_type": "code",
   "execution_count": 51,
   "id": "7ab4d038",
   "metadata": {},
   "outputs": [
    {
     "data": {
      "text/plain": [
       "{'topic': 'pizza',\n",
       " 'joke': 'Why did the pizza go to the party? Because it wanted to get a slice of the action!',\n",
       " 'explanation': 'This joke is a play on words, using the phrase \"slice of the action\" in a literal sense. When someone says they want to get a \"slice of the action,\" it means they want to be involved in or participate in something exciting or worthwhile. In this joke, the pizza goes to the party because it literally wants to get a slice (piece) of the action, as in a slice of pizza. It\\'s a lighthearted and punny way to explain why the pizza decided to attend the party.'}"
      ]
     },
     "execution_count": 51,
     "metadata": {},
     "output_type": "execute_result"
    }
   ],
   "source": [
    "config1 = {\"configurable\": {\"thread_id\": '1'}}\n",
    "workflow.invoke({'topic': 'pizza'}, config=config1)"
   ]
  },
  {
   "cell_type": "code",
   "execution_count": 52,
   "id": "ae60bd71",
   "metadata": {},
   "outputs": [
    {
     "data": {
      "text/plain": [
       "StateSnapshot(values={'topic': 'pizza', 'joke': 'Why did the pizza go to the party? Because it wanted to get a slice of the action!', 'explanation': 'This joke is a play on words, using the phrase \"slice of the action\" in a literal sense. When someone says they want to get a \"slice of the action,\" it means they want to be involved in or participate in something exciting or worthwhile. In this joke, the pizza goes to the party because it literally wants to get a slice (piece) of the action, as in a slice of pizza. It\\'s a lighthearted and punny way to explain why the pizza decided to attend the party.'}, next=(), config={'configurable': {'thread_id': '1', 'checkpoint_ns': '', 'checkpoint_id': '1f07ccca-f14c-6f79-8002-cad4a51b89b4'}}, metadata={'source': 'loop', 'step': 2, 'parents': {}}, created_at='2025-08-19T07:18:20.103461+00:00', parent_config={'configurable': {'thread_id': '1', 'checkpoint_ns': '', 'checkpoint_id': '1f07ccca-ab46-684a-8001-6e02ce852de7'}}, tasks=(), interrupts=())"
      ]
     },
     "execution_count": 52,
     "metadata": {},
     "output_type": "execute_result"
    }
   ],
   "source": [
    "workflow.get_state(config1)"
   ]
  },
  {
   "cell_type": "code",
   "execution_count": 53,
   "id": "2fe8d707",
   "metadata": {},
   "outputs": [
    {
     "data": {
      "text/plain": [
       "[StateSnapshot(values={'topic': 'pizza', 'joke': 'Why did the pizza go to the party? Because it wanted to get a slice of the action!', 'explanation': 'This joke is a play on words, using the phrase \"slice of the action\" in a literal sense. When someone says they want to get a \"slice of the action,\" it means they want to be involved in or participate in something exciting or worthwhile. In this joke, the pizza goes to the party because it literally wants to get a slice (piece) of the action, as in a slice of pizza. It\\'s a lighthearted and punny way to explain why the pizza decided to attend the party.'}, next=(), config={'configurable': {'thread_id': '1', 'checkpoint_ns': '', 'checkpoint_id': '1f07ccca-f14c-6f79-8002-cad4a51b89b4'}}, metadata={'source': 'loop', 'step': 2, 'parents': {}}, created_at='2025-08-19T07:18:20.103461+00:00', parent_config={'configurable': {'thread_id': '1', 'checkpoint_ns': '', 'checkpoint_id': '1f07ccca-ab46-684a-8001-6e02ce852de7'}}, tasks=(), interrupts=()),\n",
       " StateSnapshot(values={'topic': 'pizza', 'joke': 'Why did the pizza go to the party? Because it wanted to get a slice of the action!'}, next=('generate_explanation',), config={'configurable': {'thread_id': '1', 'checkpoint_ns': '', 'checkpoint_id': '1f07ccca-ab46-684a-8001-6e02ce852de7'}}, metadata={'source': 'loop', 'step': 1, 'parents': {}}, created_at='2025-08-19T07:18:12.760788+00:00', parent_config={'configurable': {'thread_id': '1', 'checkpoint_ns': '', 'checkpoint_id': '1f07ccca-82e0-6a2d-8000-28cbc4f7665c'}}, tasks=(PregelTask(id='25a8a676-0d67-0a48-f795-7324e646a003', name='generate_explanation', path=('__pregel_pull', 'generate_explanation'), error=None, interrupts=(), state=None, result={'explanation': 'This joke is a play on words, using the phrase \"slice of the action\" in a literal sense. When someone says they want to get a \"slice of the action,\" it means they want to be involved in or participate in something exciting or worthwhile. In this joke, the pizza goes to the party because it literally wants to get a slice (piece) of the action, as in a slice of pizza. It\\'s a lighthearted and punny way to explain why the pizza decided to attend the party.'}),), interrupts=()),\n",
       " StateSnapshot(values={'topic': 'pizza'}, next=('generate_joke',), config={'configurable': {'thread_id': '1', 'checkpoint_ns': '', 'checkpoint_id': '1f07ccca-82e0-6a2d-8000-28cbc4f7665c'}}, metadata={'source': 'loop', 'step': 0, 'parents': {}}, created_at='2025-08-19T07:18:08.524753+00:00', parent_config={'configurable': {'thread_id': '1', 'checkpoint_ns': '', 'checkpoint_id': '1f07ccca-82de-629e-bfff-1955d284bdcc'}}, tasks=(PregelTask(id='05301c83-be76-25f8-0e91-9263ca146319', name='generate_joke', path=('__pregel_pull', 'generate_joke'), error=None, interrupts=(), state=None, result={'joke': 'Why did the pizza go to the party? Because it wanted to get a slice of the action!'}),), interrupts=()),\n",
       " StateSnapshot(values={}, next=('__start__',), config={'configurable': {'thread_id': '1', 'checkpoint_ns': '', 'checkpoint_id': '1f07ccca-82de-629e-bfff-1955d284bdcc'}}, metadata={'source': 'input', 'step': -1, 'parents': {}}, created_at='2025-08-19T07:18:08.523740+00:00', parent_config=None, tasks=(PregelTask(id='c5816048-3f55-7ba1-475d-8809a84be02e', name='__start__', path=('__pregel_pull', '__start__'), error=None, interrupts=(), state=None, result={'topic': 'pizza'}),), interrupts=())]"
      ]
     },
     "execution_count": 53,
     "metadata": {},
     "output_type": "execute_result"
    }
   ],
   "source": [
    "list(workflow.get_state_history(config1))"
   ]
  },
  {
   "cell_type": "code",
   "execution_count": 55,
   "id": "ba038fa6",
   "metadata": {},
   "outputs": [
    {
     "data": {
      "text/plain": [
       "{'topic': 'pasta',\n",
       " 'joke': 'Why did the spaghetti go to the party?\\n\\nBecause it heard it would be a pasta-tively great time!',\n",
       " 'explanation': 'This joke is a play on words using a pun. The word \"pasta-tively\" is a combination of \"pasta\" and \"positively,\" suggesting that the spaghetti thought the party would be a great time because it heard it would be filled with pasta dishes. It\\'s a lighthearted and funny way to imagine a plate of spaghetti attending a party.'}"
      ]
     },
     "execution_count": 55,
     "metadata": {},
     "output_type": "execute_result"
    }
   ],
   "source": [
    "config2 = {'configurable': {'thread_id': '2'}}\n",
    "workflow.invoke({'topic': \"pasta\"}, config=config2)"
   ]
  },
  {
   "cell_type": "code",
   "execution_count": 56,
   "id": "0dd548a3",
   "metadata": {},
   "outputs": [
    {
     "data": {
      "text/plain": [
       "StateSnapshot(values={'topic': 'pizza', 'joke': 'Why did the pizza go to the party? Because it wanted to get a slice of the action!', 'explanation': 'This joke is a play on words, using the phrase \"slice of the action\" in a literal sense. When someone says they want to get a \"slice of the action,\" it means they want to be involved in or participate in something exciting or worthwhile. In this joke, the pizza goes to the party because it literally wants to get a slice (piece) of the action, as in a slice of pizza. It\\'s a lighthearted and punny way to explain why the pizza decided to attend the party.'}, next=(), config={'configurable': {'thread_id': '1', 'checkpoint_ns': '', 'checkpoint_id': '1f07ccca-f14c-6f79-8002-cad4a51b89b4'}}, metadata={'source': 'loop', 'step': 2, 'parents': {}}, created_at='2025-08-19T07:18:20.103461+00:00', parent_config={'configurable': {'thread_id': '1', 'checkpoint_ns': '', 'checkpoint_id': '1f07ccca-ab46-684a-8001-6e02ce852de7'}}, tasks=(), interrupts=())"
      ]
     },
     "execution_count": 56,
     "metadata": {},
     "output_type": "execute_result"
    }
   ],
   "source": [
    "workflow.get_state(config1)"
   ]
  },
  {
   "cell_type": "code",
   "execution_count": 58,
   "id": "fc70d5a8",
   "metadata": {},
   "outputs": [
    {
     "data": {
      "text/plain": [
       "[StateSnapshot(values={'topic': 'pizza', 'joke': 'Why did the pizza go to the party? Because it wanted to get a slice of the action!', 'explanation': 'This joke is a play on words, using the phrase \"slice of the action\" in a literal sense. When someone says they want to get a \"slice of the action,\" it means they want to be involved in or participate in something exciting or worthwhile. In this joke, the pizza goes to the party because it literally wants to get a slice (piece) of the action, as in a slice of pizza. It\\'s a lighthearted and punny way to explain why the pizza decided to attend the party.'}, next=(), config={'configurable': {'thread_id': '1', 'checkpoint_ns': '', 'checkpoint_id': '1f07ccca-f14c-6f79-8002-cad4a51b89b4'}}, metadata={'source': 'loop', 'step': 2, 'parents': {}}, created_at='2025-08-19T07:18:20.103461+00:00', parent_config={'configurable': {'thread_id': '1', 'checkpoint_ns': '', 'checkpoint_id': '1f07ccca-ab46-684a-8001-6e02ce852de7'}}, tasks=(), interrupts=()),\n",
       " StateSnapshot(values={'topic': 'pizza', 'joke': 'Why did the pizza go to the party? Because it wanted to get a slice of the action!'}, next=('generate_explanation',), config={'configurable': {'thread_id': '1', 'checkpoint_ns': '', 'checkpoint_id': '1f07ccca-ab46-684a-8001-6e02ce852de7'}}, metadata={'source': 'loop', 'step': 1, 'parents': {}}, created_at='2025-08-19T07:18:12.760788+00:00', parent_config={'configurable': {'thread_id': '1', 'checkpoint_ns': '', 'checkpoint_id': '1f07ccca-82e0-6a2d-8000-28cbc4f7665c'}}, tasks=(PregelTask(id='25a8a676-0d67-0a48-f795-7324e646a003', name='generate_explanation', path=('__pregel_pull', 'generate_explanation'), error=None, interrupts=(), state=None, result={'explanation': 'This joke is a play on words, using the phrase \"slice of the action\" in a literal sense. When someone says they want to get a \"slice of the action,\" it means they want to be involved in or participate in something exciting or worthwhile. In this joke, the pizza goes to the party because it literally wants to get a slice (piece) of the action, as in a slice of pizza. It\\'s a lighthearted and punny way to explain why the pizza decided to attend the party.'}),), interrupts=()),\n",
       " StateSnapshot(values={'topic': 'pizza'}, next=('generate_joke',), config={'configurable': {'thread_id': '1', 'checkpoint_ns': '', 'checkpoint_id': '1f07ccca-82e0-6a2d-8000-28cbc4f7665c'}}, metadata={'source': 'loop', 'step': 0, 'parents': {}}, created_at='2025-08-19T07:18:08.524753+00:00', parent_config={'configurable': {'thread_id': '1', 'checkpoint_ns': '', 'checkpoint_id': '1f07ccca-82de-629e-bfff-1955d284bdcc'}}, tasks=(PregelTask(id='05301c83-be76-25f8-0e91-9263ca146319', name='generate_joke', path=('__pregel_pull', 'generate_joke'), error=None, interrupts=(), state=None, result={'joke': 'Why did the pizza go to the party? Because it wanted to get a slice of the action!'}),), interrupts=()),\n",
       " StateSnapshot(values={}, next=('__start__',), config={'configurable': {'thread_id': '1', 'checkpoint_ns': '', 'checkpoint_id': '1f07ccca-82de-629e-bfff-1955d284bdcc'}}, metadata={'source': 'input', 'step': -1, 'parents': {}}, created_at='2025-08-19T07:18:08.523740+00:00', parent_config=None, tasks=(PregelTask(id='c5816048-3f55-7ba1-475d-8809a84be02e', name='__start__', path=('__pregel_pull', '__start__'), error=None, interrupts=(), state=None, result={'topic': 'pizza'}),), interrupts=())]"
      ]
     },
     "execution_count": 58,
     "metadata": {},
     "output_type": "execute_result"
    }
   ],
   "source": [
    "list(workflow.get_state_history(config1))"
   ]
  },
  {
   "cell_type": "markdown",
   "id": "edc3ae73",
   "metadata": {},
   "source": [
    "### Time Travel"
   ]
  },
  {
   "cell_type": "code",
   "execution_count": 59,
   "id": "dba38d43",
   "metadata": {},
   "outputs": [
    {
     "data": {
      "text/plain": [
       "StateSnapshot(values={'topic': 'pizza'}, next=('generate_joke',), config={'configurable': {'thread_id': '1', 'checkpoint_id': '1f07ccca-82e0-6a2d-8000-28cbc4f7665c'}}, metadata={'source': 'loop', 'step': 0, 'parents': {}}, created_at='2025-08-19T07:18:08.524753+00:00', parent_config={'configurable': {'thread_id': '1', 'checkpoint_ns': '', 'checkpoint_id': '1f07ccca-82de-629e-bfff-1955d284bdcc'}}, tasks=(PregelTask(id='05301c83-be76-25f8-0e91-9263ca146319', name='generate_joke', path=('__pregel_pull', 'generate_joke'), error=None, interrupts=(), state=None, result={'joke': 'Why did the pizza go to the party? Because it wanted to get a slice of the action!'}),), interrupts=())"
      ]
     },
     "execution_count": 59,
     "metadata": {},
     "output_type": "execute_result"
    }
   ],
   "source": [
    "workflow.get_state({\"configurable\": {\"thread_id\": \"1\", \"checkpoint_id\": \"1f07ccca-82e0-6a2d-8000-28cbc4f7665c\"}})"
   ]
  },
  {
   "cell_type": "code",
   "execution_count": 60,
   "id": "c3b3f843",
   "metadata": {},
   "outputs": [
    {
     "data": {
      "text/plain": [
       "{'topic': 'pizza',\n",
       " 'joke': 'Why did the pizza go to the doctor? Because it was feeling saucy!',\n",
       " 'explanation': 'This joke plays on the double meaning of the word \"saucy.\" On one hand, \"saucy\" can mean bold, impudent, or cheeky, which is a playful way to describe the attitude of someone or something. On the other hand, \"saucy\" can also refer to having a lot of sauce, as in the case of a pizza being covered in tomato sauce. So, the joke suggests that the pizza went to the doctor because it was feeling bold or cheeky (saucy), while also hinting at the fact that it may have had too much sauce on it.'}"
      ]
     },
     "execution_count": 60,
     "metadata": {},
     "output_type": "execute_result"
    }
   ],
   "source": [
    "## executing from the mentioned checkpoint\n",
    "workflow.invoke(None, {\"configurable\": {\"thread_id\": \"1\", \"checkpoint_id\": \"1f07ccca-82e0-6a2d-8000-28cbc4f7665c\"}})"
   ]
  },
  {
   "cell_type": "code",
   "execution_count": 61,
   "id": "04ba8e95",
   "metadata": {},
   "outputs": [
    {
     "data": {
      "text/plain": [
       "[StateSnapshot(values={'topic': 'pizza', 'joke': 'Why did the pizza go to the doctor? Because it was feeling saucy!', 'explanation': 'This joke plays on the double meaning of the word \"saucy.\" On one hand, \"saucy\" can mean bold, impudent, or cheeky, which is a playful way to describe the attitude of someone or something. On the other hand, \"saucy\" can also refer to having a lot of sauce, as in the case of a pizza being covered in tomato sauce. So, the joke suggests that the pizza went to the doctor because it was feeling bold or cheeky (saucy), while also hinting at the fact that it may have had too much sauce on it.'}, next=(), config={'configurable': {'thread_id': '1', 'checkpoint_ns': '', 'checkpoint_id': '1f07cd4a-f0d7-6bab-8002-3cc4b2119eff'}}, metadata={'source': 'loop', 'step': 2, 'parents': {}}, created_at='2025-08-19T08:15:36.029277+00:00', parent_config={'configurable': {'thread_id': '1', 'checkpoint_ns': '', 'checkpoint_id': '1f07cd4a-db08-617f-8001-946cdc9d8051'}}, tasks=(), interrupts=()),\n",
       " StateSnapshot(values={'topic': 'pizza', 'joke': 'Why did the pizza go to the doctor? Because it was feeling saucy!'}, next=('generate_explanation',), config={'configurable': {'thread_id': '1', 'checkpoint_ns': '', 'checkpoint_id': '1f07cd4a-db08-617f-8001-946cdc9d8051'}}, metadata={'source': 'loop', 'step': 1, 'parents': {}}, created_at='2025-08-19T08:15:33.742220+00:00', parent_config={'configurable': {'thread_id': '1', 'checkpoint_ns': '', 'checkpoint_id': '1f07ccca-82e0-6a2d-8000-28cbc4f7665c'}}, tasks=(PregelTask(id='2317f09c-c2fb-dbcd-adeb-f5c876271787', name='generate_explanation', path=('__pregel_pull', 'generate_explanation'), error=None, interrupts=(), state=None, result={'explanation': 'This joke plays on the double meaning of the word \"saucy.\" On one hand, \"saucy\" can mean bold, impudent, or cheeky, which is a playful way to describe the attitude of someone or something. On the other hand, \"saucy\" can also refer to having a lot of sauce, as in the case of a pizza being covered in tomato sauce. So, the joke suggests that the pizza went to the doctor because it was feeling bold or cheeky (saucy), while also hinting at the fact that it may have had too much sauce on it.'}),), interrupts=()),\n",
       " StateSnapshot(values={'topic': 'pizza', 'joke': 'Why did the pizza go to the party? Because it wanted to get a slice of the action!', 'explanation': 'This joke is a play on words, using the phrase \"slice of the action\" in a literal sense. When someone says they want to get a \"slice of the action,\" it means they want to be involved in or participate in something exciting or worthwhile. In this joke, the pizza goes to the party because it literally wants to get a slice (piece) of the action, as in a slice of pizza. It\\'s a lighthearted and punny way to explain why the pizza decided to attend the party.'}, next=(), config={'configurable': {'thread_id': '1', 'checkpoint_ns': '', 'checkpoint_id': '1f07ccca-f14c-6f79-8002-cad4a51b89b4'}}, metadata={'source': 'loop', 'step': 2, 'parents': {}}, created_at='2025-08-19T07:18:20.103461+00:00', parent_config={'configurable': {'thread_id': '1', 'checkpoint_ns': '', 'checkpoint_id': '1f07ccca-ab46-684a-8001-6e02ce852de7'}}, tasks=(), interrupts=()),\n",
       " StateSnapshot(values={'topic': 'pizza', 'joke': 'Why did the pizza go to the party? Because it wanted to get a slice of the action!'}, next=('generate_explanation',), config={'configurable': {'thread_id': '1', 'checkpoint_ns': '', 'checkpoint_id': '1f07ccca-ab46-684a-8001-6e02ce852de7'}}, metadata={'source': 'loop', 'step': 1, 'parents': {}}, created_at='2025-08-19T07:18:12.760788+00:00', parent_config={'configurable': {'thread_id': '1', 'checkpoint_ns': '', 'checkpoint_id': '1f07ccca-82e0-6a2d-8000-28cbc4f7665c'}}, tasks=(PregelTask(id='25a8a676-0d67-0a48-f795-7324e646a003', name='generate_explanation', path=('__pregel_pull', 'generate_explanation'), error=None, interrupts=(), state=None, result={'explanation': 'This joke is a play on words, using the phrase \"slice of the action\" in a literal sense. When someone says they want to get a \"slice of the action,\" it means they want to be involved in or participate in something exciting or worthwhile. In this joke, the pizza goes to the party because it literally wants to get a slice (piece) of the action, as in a slice of pizza. It\\'s a lighthearted and punny way to explain why the pizza decided to attend the party.'}),), interrupts=()),\n",
       " StateSnapshot(values={'topic': 'pizza'}, next=('generate_joke',), config={'configurable': {'thread_id': '1', 'checkpoint_ns': '', 'checkpoint_id': '1f07ccca-82e0-6a2d-8000-28cbc4f7665c'}}, metadata={'source': 'loop', 'step': 0, 'parents': {}}, created_at='2025-08-19T07:18:08.524753+00:00', parent_config={'configurable': {'thread_id': '1', 'checkpoint_ns': '', 'checkpoint_id': '1f07ccca-82de-629e-bfff-1955d284bdcc'}}, tasks=(PregelTask(id='05301c83-be76-25f8-0e91-9263ca146319', name='generate_joke', path=('__pregel_pull', 'generate_joke'), error=None, interrupts=(), state=None, result={'joke': 'Why did the pizza go to the party? Because it wanted to get a slice of the action!'}),), interrupts=()),\n",
       " StateSnapshot(values={}, next=('__start__',), config={'configurable': {'thread_id': '1', 'checkpoint_ns': '', 'checkpoint_id': '1f07ccca-82de-629e-bfff-1955d284bdcc'}}, metadata={'source': 'input', 'step': -1, 'parents': {}}, created_at='2025-08-19T07:18:08.523740+00:00', parent_config=None, tasks=(PregelTask(id='c5816048-3f55-7ba1-475d-8809a84be02e', name='__start__', path=('__pregel_pull', '__start__'), error=None, interrupts=(), state=None, result={'topic': 'pizza'}),), interrupts=())]"
      ]
     },
     "execution_count": 61,
     "metadata": {},
     "output_type": "execute_result"
    }
   ],
   "source": [
    "list(workflow.get_state_history(config1))"
   ]
  },
  {
   "cell_type": "markdown",
   "id": "1191bb9e",
   "metadata": {},
   "source": [
    "### updating state"
   ]
  },
  {
   "cell_type": "code",
   "execution_count": 63,
   "id": "a6c9f358",
   "metadata": {},
   "outputs": [
    {
     "data": {
      "text/plain": [
       "{'configurable': {'thread_id': '1',\n",
       "  'checkpoint_ns': '',\n",
       "  'checkpoint_id': '1f07cd57-0e64-6169-8001-ce19c7f67a6c'}}"
      ]
     },
     "execution_count": 63,
     "metadata": {},
     "output_type": "execute_result"
    }
   ],
   "source": [
    "workflow.update_state({\"configurable\": {\"thread_id\": \"1\", \"checkpoint_id\": \"1f07ccca-82e0-6a2d-8000-28cbc4f7665c\", \"checkpoint_ns\": \"\"}}, {'topic': 'samosa'})"
   ]
  },
  {
   "cell_type": "code",
   "execution_count": 64,
   "id": "f4936818",
   "metadata": {},
   "outputs": [
    {
     "data": {
      "text/plain": [
       "[StateSnapshot(values={'topic': 'samosa'}, next=('generate_joke',), config={'configurable': {'thread_id': '1', 'checkpoint_ns': '', 'checkpoint_id': '1f07cd57-0e64-6169-8001-ce19c7f67a6c'}}, metadata={'source': 'update', 'step': 1, 'parents': {}}, created_at='2025-08-19T08:21:01.250186+00:00', parent_config={'configurable': {'thread_id': '1', 'checkpoint_ns': '', 'checkpoint_id': '1f07ccca-82e0-6a2d-8000-28cbc4f7665c'}}, tasks=(PregelTask(id='9c1bee41-31f2-8bd4-9fad-a055c1b2a37f', name='generate_joke', path=('__pregel_pull', 'generate_joke'), error=None, interrupts=(), state=None, result=None),), interrupts=()),\n",
       " StateSnapshot(values={'topic': 'pizza', 'joke': 'Why did the pizza go to the doctor? Because it was feeling saucy!', 'explanation': 'This joke plays on the double meaning of the word \"saucy.\" On one hand, \"saucy\" can mean bold, impudent, or cheeky, which is a playful way to describe the attitude of someone or something. On the other hand, \"saucy\" can also refer to having a lot of sauce, as in the case of a pizza being covered in tomato sauce. So, the joke suggests that the pizza went to the doctor because it was feeling bold or cheeky (saucy), while also hinting at the fact that it may have had too much sauce on it.'}, next=(), config={'configurable': {'thread_id': '1', 'checkpoint_ns': '', 'checkpoint_id': '1f07cd4a-f0d7-6bab-8002-3cc4b2119eff'}}, metadata={'source': 'loop', 'step': 2, 'parents': {}}, created_at='2025-08-19T08:15:36.029277+00:00', parent_config={'configurable': {'thread_id': '1', 'checkpoint_ns': '', 'checkpoint_id': '1f07cd4a-db08-617f-8001-946cdc9d8051'}}, tasks=(), interrupts=()),\n",
       " StateSnapshot(values={'topic': 'pizza', 'joke': 'Why did the pizza go to the doctor? Because it was feeling saucy!'}, next=('generate_explanation',), config={'configurable': {'thread_id': '1', 'checkpoint_ns': '', 'checkpoint_id': '1f07cd4a-db08-617f-8001-946cdc9d8051'}}, metadata={'source': 'loop', 'step': 1, 'parents': {}}, created_at='2025-08-19T08:15:33.742220+00:00', parent_config={'configurable': {'thread_id': '1', 'checkpoint_ns': '', 'checkpoint_id': '1f07ccca-82e0-6a2d-8000-28cbc4f7665c'}}, tasks=(PregelTask(id='2317f09c-c2fb-dbcd-adeb-f5c876271787', name='generate_explanation', path=('__pregel_pull', 'generate_explanation'), error=None, interrupts=(), state=None, result={'explanation': 'This joke plays on the double meaning of the word \"saucy.\" On one hand, \"saucy\" can mean bold, impudent, or cheeky, which is a playful way to describe the attitude of someone or something. On the other hand, \"saucy\" can also refer to having a lot of sauce, as in the case of a pizza being covered in tomato sauce. So, the joke suggests that the pizza went to the doctor because it was feeling bold or cheeky (saucy), while also hinting at the fact that it may have had too much sauce on it.'}),), interrupts=()),\n",
       " StateSnapshot(values={'topic': 'pizza', 'joke': 'Why did the pizza go to the party? Because it wanted to get a slice of the action!', 'explanation': 'This joke is a play on words, using the phrase \"slice of the action\" in a literal sense. When someone says they want to get a \"slice of the action,\" it means they want to be involved in or participate in something exciting or worthwhile. In this joke, the pizza goes to the party because it literally wants to get a slice (piece) of the action, as in a slice of pizza. It\\'s a lighthearted and punny way to explain why the pizza decided to attend the party.'}, next=(), config={'configurable': {'thread_id': '1', 'checkpoint_ns': '', 'checkpoint_id': '1f07ccca-f14c-6f79-8002-cad4a51b89b4'}}, metadata={'source': 'loop', 'step': 2, 'parents': {}}, created_at='2025-08-19T07:18:20.103461+00:00', parent_config={'configurable': {'thread_id': '1', 'checkpoint_ns': '', 'checkpoint_id': '1f07ccca-ab46-684a-8001-6e02ce852de7'}}, tasks=(), interrupts=()),\n",
       " StateSnapshot(values={'topic': 'pizza', 'joke': 'Why did the pizza go to the party? Because it wanted to get a slice of the action!'}, next=('generate_explanation',), config={'configurable': {'thread_id': '1', 'checkpoint_ns': '', 'checkpoint_id': '1f07ccca-ab46-684a-8001-6e02ce852de7'}}, metadata={'source': 'loop', 'step': 1, 'parents': {}}, created_at='2025-08-19T07:18:12.760788+00:00', parent_config={'configurable': {'thread_id': '1', 'checkpoint_ns': '', 'checkpoint_id': '1f07ccca-82e0-6a2d-8000-28cbc4f7665c'}}, tasks=(PregelTask(id='25a8a676-0d67-0a48-f795-7324e646a003', name='generate_explanation', path=('__pregel_pull', 'generate_explanation'), error=None, interrupts=(), state=None, result={'explanation': 'This joke is a play on words, using the phrase \"slice of the action\" in a literal sense. When someone says they want to get a \"slice of the action,\" it means they want to be involved in or participate in something exciting or worthwhile. In this joke, the pizza goes to the party because it literally wants to get a slice (piece) of the action, as in a slice of pizza. It\\'s a lighthearted and punny way to explain why the pizza decided to attend the party.'}),), interrupts=()),\n",
       " StateSnapshot(values={'topic': 'pizza'}, next=('generate_joke',), config={'configurable': {'thread_id': '1', 'checkpoint_ns': '', 'checkpoint_id': '1f07ccca-82e0-6a2d-8000-28cbc4f7665c'}}, metadata={'source': 'loop', 'step': 0, 'parents': {}}, created_at='2025-08-19T07:18:08.524753+00:00', parent_config={'configurable': {'thread_id': '1', 'checkpoint_ns': '', 'checkpoint_id': '1f07ccca-82de-629e-bfff-1955d284bdcc'}}, tasks=(PregelTask(id='05301c83-be76-25f8-0e91-9263ca146319', name='generate_joke', path=('__pregel_pull', 'generate_joke'), error=None, interrupts=(), state=None, result={'joke': 'Why did the pizza go to the party? Because it wanted to get a slice of the action!'}),), interrupts=()),\n",
       " StateSnapshot(values={}, next=('__start__',), config={'configurable': {'thread_id': '1', 'checkpoint_ns': '', 'checkpoint_id': '1f07ccca-82de-629e-bfff-1955d284bdcc'}}, metadata={'source': 'input', 'step': -1, 'parents': {}}, created_at='2025-08-19T07:18:08.523740+00:00', parent_config=None, tasks=(PregelTask(id='c5816048-3f55-7ba1-475d-8809a84be02e', name='__start__', path=('__pregel_pull', '__start__'), error=None, interrupts=(), state=None, result={'topic': 'pizza'}),), interrupts=())]"
      ]
     },
     "execution_count": 64,
     "metadata": {},
     "output_type": "execute_result"
    }
   ],
   "source": [
    "list(workflow.get_state_history(config1))"
   ]
  },
  {
   "cell_type": "code",
   "execution_count": 65,
   "id": "7544bee5",
   "metadata": {},
   "outputs": [
    {
     "data": {
      "text/plain": [
       "{'topic': 'samosa',\n",
       " 'joke': \"Why couldn't the samosa make it to the party on time? Because it was stuck in a pastry traffic jam!\",\n",
       " 'explanation': 'This joke is a play on words, using the term \"pastry traffic jam\" as a pun on a real traffic jam. In this case, the samosa was unable to make it to the party on time because it was figuratively stuck in a pastry traffic jam, likely referencing other pastries or foods that were in its way and preventing it from getting to its destination quickly. The humorous aspect of the joke lies in the unexpected twist of a samosa being held up by other pastries, creating a silly and lighthearted image in the reader\\'s mind.'}"
      ]
     },
     "execution_count": 65,
     "metadata": {},
     "output_type": "execute_result"
    }
   ],
   "source": [
    "workflow.invoke(None, {\"configurable\": {\"thread_id\": \"1\", \"checkpoint_id\": \"1f07cd57-0e64-6169-8001-ce19c7f67a6c\"}})"
   ]
  },
  {
   "cell_type": "code",
   "execution_count": 66,
   "id": "d0634a3c",
   "metadata": {},
   "outputs": [
    {
     "data": {
      "text/plain": [
       "[StateSnapshot(values={'topic': 'samosa', 'joke': \"Why couldn't the samosa make it to the party on time? Because it was stuck in a pastry traffic jam!\", 'explanation': 'This joke is a play on words, using the term \"pastry traffic jam\" as a pun on a real traffic jam. In this case, the samosa was unable to make it to the party on time because it was figuratively stuck in a pastry traffic jam, likely referencing other pastries or foods that were in its way and preventing it from getting to its destination quickly. The humorous aspect of the joke lies in the unexpected twist of a samosa being held up by other pastries, creating a silly and lighthearted image in the reader\\'s mind.'}, next=(), config={'configurable': {'thread_id': '1', 'checkpoint_ns': '', 'checkpoint_id': '1f07cd5d-d274-6231-8003-9bc3d50a619f'}}, metadata={'source': 'loop', 'step': 3, 'parents': {}}, created_at='2025-08-19T08:24:02.870123+00:00', parent_config={'configurable': {'thread_id': '1', 'checkpoint_ns': '', 'checkpoint_id': '1f07cd5d-c523-6aa8-8002-63b61f6df289'}}, tasks=(), interrupts=()),\n",
       " StateSnapshot(values={'topic': 'samosa', 'joke': \"Why couldn't the samosa make it to the party on time? Because it was stuck in a pastry traffic jam!\"}, next=('generate_explanation',), config={'configurable': {'thread_id': '1', 'checkpoint_ns': '', 'checkpoint_id': '1f07cd5d-c523-6aa8-8002-63b61f6df289'}}, metadata={'source': 'loop', 'step': 2, 'parents': {}}, created_at='2025-08-19T08:24:01.474013+00:00', parent_config={'configurable': {'thread_id': '1', 'checkpoint_ns': '', 'checkpoint_id': '1f07cd57-0e64-6169-8001-ce19c7f67a6c'}}, tasks=(PregelTask(id='0ba3c2d6-ddf4-7303-42ce-0d78666017fd', name='generate_explanation', path=('__pregel_pull', 'generate_explanation'), error=None, interrupts=(), state=None, result={'explanation': 'This joke is a play on words, using the term \"pastry traffic jam\" as a pun on a real traffic jam. In this case, the samosa was unable to make it to the party on time because it was figuratively stuck in a pastry traffic jam, likely referencing other pastries or foods that were in its way and preventing it from getting to its destination quickly. The humorous aspect of the joke lies in the unexpected twist of a samosa being held up by other pastries, creating a silly and lighthearted image in the reader\\'s mind.'}),), interrupts=()),\n",
       " StateSnapshot(values={'topic': 'samosa'}, next=('generate_joke',), config={'configurable': {'thread_id': '1', 'checkpoint_ns': '', 'checkpoint_id': '1f07cd57-0e64-6169-8001-ce19c7f67a6c'}}, metadata={'source': 'update', 'step': 1, 'parents': {}}, created_at='2025-08-19T08:21:01.250186+00:00', parent_config={'configurable': {'thread_id': '1', 'checkpoint_ns': '', 'checkpoint_id': '1f07ccca-82e0-6a2d-8000-28cbc4f7665c'}}, tasks=(PregelTask(id='9c1bee41-31f2-8bd4-9fad-a055c1b2a37f', name='generate_joke', path=('__pregel_pull', 'generate_joke'), error=None, interrupts=(), state=None, result={'joke': \"Why couldn't the samosa make it to the party on time? Because it was stuck in a pastry traffic jam!\"}),), interrupts=()),\n",
       " StateSnapshot(values={'topic': 'pizza', 'joke': 'Why did the pizza go to the doctor? Because it was feeling saucy!', 'explanation': 'This joke plays on the double meaning of the word \"saucy.\" On one hand, \"saucy\" can mean bold, impudent, or cheeky, which is a playful way to describe the attitude of someone or something. On the other hand, \"saucy\" can also refer to having a lot of sauce, as in the case of a pizza being covered in tomato sauce. So, the joke suggests that the pizza went to the doctor because it was feeling bold or cheeky (saucy), while also hinting at the fact that it may have had too much sauce on it.'}, next=(), config={'configurable': {'thread_id': '1', 'checkpoint_ns': '', 'checkpoint_id': '1f07cd4a-f0d7-6bab-8002-3cc4b2119eff'}}, metadata={'source': 'loop', 'step': 2, 'parents': {}}, created_at='2025-08-19T08:15:36.029277+00:00', parent_config={'configurable': {'thread_id': '1', 'checkpoint_ns': '', 'checkpoint_id': '1f07cd4a-db08-617f-8001-946cdc9d8051'}}, tasks=(), interrupts=()),\n",
       " StateSnapshot(values={'topic': 'pizza', 'joke': 'Why did the pizza go to the doctor? Because it was feeling saucy!'}, next=('generate_explanation',), config={'configurable': {'thread_id': '1', 'checkpoint_ns': '', 'checkpoint_id': '1f07cd4a-db08-617f-8001-946cdc9d8051'}}, metadata={'source': 'loop', 'step': 1, 'parents': {}}, created_at='2025-08-19T08:15:33.742220+00:00', parent_config={'configurable': {'thread_id': '1', 'checkpoint_ns': '', 'checkpoint_id': '1f07ccca-82e0-6a2d-8000-28cbc4f7665c'}}, tasks=(PregelTask(id='2317f09c-c2fb-dbcd-adeb-f5c876271787', name='generate_explanation', path=('__pregel_pull', 'generate_explanation'), error=None, interrupts=(), state=None, result={'explanation': 'This joke plays on the double meaning of the word \"saucy.\" On one hand, \"saucy\" can mean bold, impudent, or cheeky, which is a playful way to describe the attitude of someone or something. On the other hand, \"saucy\" can also refer to having a lot of sauce, as in the case of a pizza being covered in tomato sauce. So, the joke suggests that the pizza went to the doctor because it was feeling bold or cheeky (saucy), while also hinting at the fact that it may have had too much sauce on it.'}),), interrupts=()),\n",
       " StateSnapshot(values={'topic': 'pizza', 'joke': 'Why did the pizza go to the party? Because it wanted to get a slice of the action!', 'explanation': 'This joke is a play on words, using the phrase \"slice of the action\" in a literal sense. When someone says they want to get a \"slice of the action,\" it means they want to be involved in or participate in something exciting or worthwhile. In this joke, the pizza goes to the party because it literally wants to get a slice (piece) of the action, as in a slice of pizza. It\\'s a lighthearted and punny way to explain why the pizza decided to attend the party.'}, next=(), config={'configurable': {'thread_id': '1', 'checkpoint_ns': '', 'checkpoint_id': '1f07ccca-f14c-6f79-8002-cad4a51b89b4'}}, metadata={'source': 'loop', 'step': 2, 'parents': {}}, created_at='2025-08-19T07:18:20.103461+00:00', parent_config={'configurable': {'thread_id': '1', 'checkpoint_ns': '', 'checkpoint_id': '1f07ccca-ab46-684a-8001-6e02ce852de7'}}, tasks=(), interrupts=()),\n",
       " StateSnapshot(values={'topic': 'pizza', 'joke': 'Why did the pizza go to the party? Because it wanted to get a slice of the action!'}, next=('generate_explanation',), config={'configurable': {'thread_id': '1', 'checkpoint_ns': '', 'checkpoint_id': '1f07ccca-ab46-684a-8001-6e02ce852de7'}}, metadata={'source': 'loop', 'step': 1, 'parents': {}}, created_at='2025-08-19T07:18:12.760788+00:00', parent_config={'configurable': {'thread_id': '1', 'checkpoint_ns': '', 'checkpoint_id': '1f07ccca-82e0-6a2d-8000-28cbc4f7665c'}}, tasks=(PregelTask(id='25a8a676-0d67-0a48-f795-7324e646a003', name='generate_explanation', path=('__pregel_pull', 'generate_explanation'), error=None, interrupts=(), state=None, result={'explanation': 'This joke is a play on words, using the phrase \"slice of the action\" in a literal sense. When someone says they want to get a \"slice of the action,\" it means they want to be involved in or participate in something exciting or worthwhile. In this joke, the pizza goes to the party because it literally wants to get a slice (piece) of the action, as in a slice of pizza. It\\'s a lighthearted and punny way to explain why the pizza decided to attend the party.'}),), interrupts=()),\n",
       " StateSnapshot(values={'topic': 'pizza'}, next=('generate_joke',), config={'configurable': {'thread_id': '1', 'checkpoint_ns': '', 'checkpoint_id': '1f07ccca-82e0-6a2d-8000-28cbc4f7665c'}}, metadata={'source': 'loop', 'step': 0, 'parents': {}}, created_at='2025-08-19T07:18:08.524753+00:00', parent_config={'configurable': {'thread_id': '1', 'checkpoint_ns': '', 'checkpoint_id': '1f07ccca-82de-629e-bfff-1955d284bdcc'}}, tasks=(PregelTask(id='05301c83-be76-25f8-0e91-9263ca146319', name='generate_joke', path=('__pregel_pull', 'generate_joke'), error=None, interrupts=(), state=None, result={'joke': 'Why did the pizza go to the party? Because it wanted to get a slice of the action!'}),), interrupts=()),\n",
       " StateSnapshot(values={}, next=('__start__',), config={'configurable': {'thread_id': '1', 'checkpoint_ns': '', 'checkpoint_id': '1f07ccca-82de-629e-bfff-1955d284bdcc'}}, metadata={'source': 'input', 'step': -1, 'parents': {}}, created_at='2025-08-19T07:18:08.523740+00:00', parent_config=None, tasks=(PregelTask(id='c5816048-3f55-7ba1-475d-8809a84be02e', name='__start__', path=('__pregel_pull', '__start__'), error=None, interrupts=(), state=None, result={'topic': 'pizza'}),), interrupts=())]"
      ]
     },
     "execution_count": 66,
     "metadata": {},
     "output_type": "execute_result"
    }
   ],
   "source": [
    "list(workflow.get_state_history(config1))"
   ]
  },
  {
   "cell_type": "code",
   "execution_count": 67,
   "id": "0c558f29",
   "metadata": {},
   "outputs": [],
   "source": [
    "### end here"
   ]
  }
 ],
 "metadata": {
  "kernelspec": {
   "display_name": "myenv1",
   "language": "python",
   "name": "python3"
  },
  "language_info": {
   "codemirror_mode": {
    "name": "ipython",
    "version": 3
   },
   "file_extension": ".py",
   "mimetype": "text/x-python",
   "name": "python",
   "nbconvert_exporter": "python",
   "pygments_lexer": "ipython3",
   "version": "3.12.7"
  }
 },
 "nbformat": 4,
 "nbformat_minor": 5
}
